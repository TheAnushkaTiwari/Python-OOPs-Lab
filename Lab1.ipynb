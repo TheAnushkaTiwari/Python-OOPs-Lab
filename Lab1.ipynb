{
 "cells": [
  {
   "cell_type": "code",
   "execution_count": 1,
   "id": "b8c77e5a",
   "metadata": {},
   "outputs": [
    {
     "name": "stdout",
     "output_type": "stream",
     "text": [
      "Hello world\n",
      "ABC DEF\n"
     ]
    }
   ],
   "source": [
    "mssg=\"Hello world\"\n",
    "print(mssg)\n",
    "f_name=\"ABC\"\n",
    "l_name=\"DEF\"\n",
    "fullname=f\"{f_name} {l_name}\"\n",
    "print(fullname)"
   ]
  },
  {
   "cell_type": "code",
   "execution_count": 2,
   "id": "5f37f1b1",
   "metadata": {},
   "outputs": [
    {
     "name": "stdout",
     "output_type": "stream",
     "text": [
      "Anushka\n",
      " Hello Anushka\n"
     ]
    }
   ],
   "source": [
    "name=\"Anushka\"\n",
    "print(name.title())\n",
    "n=\"anushka\"\n",
    "s=f\" hello {n}\"\n",
    "print(s.title())"
   ]
  },
  {
   "cell_type": "code",
   "execution_count": 3,
   "id": "9f574876",
   "metadata": {},
   "outputs": [
    {
     "name": "stdout",
     "output_type": "stream",
     "text": [
      "enter your first nameanushka\n",
      "enter your last nametiwari\n",
      "Anushka Tiwari\n"
     ]
    }
   ],
   "source": [
    "a=input(\"enter your first name\")\n",
    "b=input(\"enter your last name\")\n",
    "c=f\"{a} {b}\"\n",
    "print(c.title())"
   ]
  },
  {
   "cell_type": "code",
   "execution_count": 4,
   "id": "3eef584a",
   "metadata": {},
   "outputs": [
    {
     "name": "stdout",
     "output_type": "stream",
     "text": [
      "enter a number23\n",
      "enter another number4\n",
      "234\n",
      "<class 'str'>\n"
     ]
    }
   ],
   "source": [
    "a=input(\"enter a number\")\n",
    "b=input(\"enter another number\")\n",
    "c=a+b\n",
    "print(c)\n",
    "print(type(a))"
   ]
  },
  {
   "cell_type": "code",
   "execution_count": 5,
   "id": "56bb7342",
   "metadata": {},
   "outputs": [
    {
     "name": "stdout",
     "output_type": "stream",
     "text": [
      "enter a number23\n",
      "<class 'int'>\n",
      "enter another number4\n",
      "27\n"
     ]
    }
   ],
   "source": [
    "a=int(input(\"enter a number\"))\n",
    "print(type(a))\n",
    "b=int(input(\"enter another number\"))\n",
    "c=a+b\n",
    "print(c)"
   ]
  },
  {
   "cell_type": "code",
   "execution_count": null,
   "id": "de445a40",
   "metadata": {},
   "outputs": [],
   "source": []
  }
 ],
 "metadata": {
  "kernelspec": {
   "display_name": "Python 3 (ipykernel)",
   "language": "python",
   "name": "python3"
  },
  "language_info": {
   "codemirror_mode": {
    "name": "ipython",
    "version": 3
   },
   "file_extension": ".py",
   "mimetype": "text/x-python",
   "name": "python",
   "nbconvert_exporter": "python",
   "pygments_lexer": "ipython3",
   "version": "3.11.5"
  }
 },
 "nbformat": 4,
 "nbformat_minor": 5
}

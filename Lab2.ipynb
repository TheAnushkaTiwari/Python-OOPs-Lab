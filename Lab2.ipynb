{
 "cells": [
  {
   "cell_type": "code",
   "execution_count": 1,
   "id": "bb70d607",
   "metadata": {},
   "outputs": [
    {
     "name": "stdout",
     "output_type": "stream",
     "text": [
      "Enter a value23\n",
      "Enter your nameanushka\n",
      "Enter your gpa9.97\n",
      "23\n",
      "anushka\n",
      "9.97\n"
     ]
    }
   ],
   "source": [
    "a=int(input(\"Enter a value\"))\n",
    "b=input(\"Enter your name\")\n",
    "c=float(input(\"Enter your gpa\"))\n",
    "print(a)\n",
    "print(b)\n",
    "print(c)"
   ]
  },
  {
   "cell_type": "code",
   "execution_count": 2,
   "id": "34a4e582",
   "metadata": {},
   "outputs": [
    {
     "name": "stdout",
     "output_type": "stream",
     "text": [
      "Enter 1st number6.87970765\n",
      "Enter 2nd number45.5648\n",
      "52.44450765\n",
      "38.68509235\n",
      "313.47\n",
      "0.15\n"
     ]
    }
   ],
   "source": [
    "num1=float(input(\"Enter 1st number\"))\n",
    "num2=float(input(\"Enter 2nd number\"))\n",
    "add=num1+num2\n",
    "sub=num1-num2\n",
    "multiply=num1*num2\n",
    "div=num1/num2\n",
    "print(add)\n",
    "print(abs(sub))\n",
    "print(\"%.2f\" % multiply)\n",
    "print(\"%.2f\" % div)"
   ]
  },
  {
   "cell_type": "code",
   "execution_count": 3,
   "id": "4f06ab63",
   "metadata": {},
   "outputs": [
    {
     "name": "stdout",
     "output_type": "stream",
     "text": [
      "Integer Operations:\n",
      "10 + 5 = 15\n",
      "10 - 5 = 5\n",
      "10 * 5 = 50\n",
      "10 / 5 = 2.0\n",
      "10 // 5 = 2\n",
      "10 % 5 = 0\n",
      "10 ** 5 = 100000\n",
      "\n",
      "\n",
      "Floating-Point Operations:\n",
      "10.5 + 4.2 = 14.7\n",
      "10.5 - 4.2 = 6.3\n",
      "10.5 * 4.2 = 44.1\n",
      "10.5 / 4.2 = 2.5\n",
      "\n",
      "\n",
      "String Operations:\n",
      "Hello + World = Hello World\n",
      "Hello * 3 = HelloHelloHello\n"
     ]
    }
   ],
   "source": [
    "#Integer\n",
    "integer_a = 10\n",
    "integer_b = 5\n",
    "print(\"Integer Operations:\")\n",
    "print(f\"{integer_a} + {integer_b} = {integer_a + integer_b}\")\n",
    "print(f\"{integer_a} - {integer_b} = {integer_a - integer_b}\")\n",
    "print(f\"{integer_a} * {integer_b} = {integer_a * integer_b}\")\n",
    "print(f\"{integer_a} / {integer_b} = {integer_a / integer_b}\")\n",
    "print(f\"{integer_a} // {integer_b} = {integer_a // integer_b}\")  # Floor division\n",
    "print(f\"{integer_a} % {integer_b} = {integer_a % integer_b}\")    # Modulus\n",
    "print(f\"{integer_a} ** {integer_b} = {integer_a ** integer_b}\")  # Exponentiation\n",
    "\n",
    "print(\"\\n\")\n",
    "\n",
    "# Floating-Point Number\n",
    "float_a = 10.5\n",
    "float_b = 4.2\n",
    "print(\"Floating-Point Operations:\")\n",
    "print(f\"{float_a} + {float_b} = {float_a + float_b}\")\n",
    "print(f\"{float_a} - {float_b} = {float_a - float_b}\")\n",
    "print(f\"{float_a} * {float_b} = {float_a * float_b}\")\n",
    "print(f\"{float_a} / {float_b} = {float_a / float_b}\")\n",
    "\n",
    "print(\"\\n\")\n",
    "\n",
    "# String\n",
    "string_a = \"Hello\"\n",
    "string_b = \"World\"\n",
    "print(\"String Operations:\")\n",
    "print(f\"{string_a} + {string_b} = {string_a + ' ' + string_b}\")  # Concatenation\n",
    "print(f\"{string_a} * 3 = {string_a * 3}\")  # Repetition"
   ]
  },
  {
   "cell_type": "code",
   "execution_count": 5,
   "id": "d6f9ef2a",
   "metadata": {},
   "outputs": [
    {
     "name": "stdout",
     "output_type": "stream",
     "text": [
      "enter a number45\n",
      "enter a number7\n",
      "average is 26.0\n",
      "deviation of 45 is 19.0\n",
      "deviation of 7 is -19.0\n"
     ]
    }
   ],
   "source": [
    "num1=int(input(\"enter a number\"))\n",
    "num2=int(input(\"enter a number\"))\n",
    "avg=(num1+num2)/2\n",
    "deviation1=num1-avg\n",
    "deviation2=num2-avg\n",
    "print(f\"average is {avg}\")\n",
    "print(f\"deviation of {num1} is {deviation1}\")\n",
    "print(f\"deviation of {num2} is {deviation2}\")"
   ]
  },
  {
   "cell_type": "code",
   "execution_count": 6,
   "id": "736e6a36",
   "metadata": {},
   "outputs": [
    {
     "name": "stdout",
     "output_type": "stream",
     "text": [
      "Enter the number of items: 4\n",
      "Enter the name of item 1: marker\n",
      "Enter the quantity of item 1: 4\n",
      "Enter the price per unit of item 1: 20\n",
      "Enter the name of item 2: pen\n",
      "Enter the quantity of item 2: 10\n",
      "Enter the price per unit of item 2: 10\n",
      "Enter the name of item 3: chart paper\n",
      "Enter the quantity of item 3: 5\n",
      "Enter the price per unit of item 3: 10\n",
      "Enter the name of item 4: paints\n",
      "Enter the quantity of item 4: 7\n",
      "Enter the price per unit of item 4: 20\n",
      "-------------- BILL --------------\n",
      "Name            Item Quantity   Item Price\n",
      "----------------------------------------\n",
      "marker          4               80.00     \n",
      "pen             10              100.00    \n",
      "chart paper     5               50.00     \n",
      "paints          7               140.00    \n",
      "----------------------------------------\n",
      "Total Amount to be paid: 370.00\n",
      "----------------------------------------\n"
     ]
    }
   ],
   "source": [
    "items = []\n",
    "\n",
    "n = int(input(\"Enter the number of items: \"))\n",
    "\n",
    "for i in range(n):\n",
    "    name = input(f\"Enter the name of item {i+1}: \")\n",
    "    quantity = int(input(f\"Enter the quantity of item {i+1}: \"))\n",
    "    price = float(input(f\"Enter the price per unit of item {i+1}: \"))\n",
    "    \n",
    "    items.append({\n",
    "        'name': name,\n",
    "        'quantity': quantity,\n",
    "        'price': price\n",
    "    })\n",
    "\n",
    "print(\"-------------- BILL --------------\")\n",
    "print(\"{:<15} {:<15} {:<10}\".format(\"Name\", \"Item Quantity\", \"Item Price\"))\n",
    "print(\"-\" * 40)\n",
    "\n",
    "total_amount = 0\n",
    "\n",
    "\n",
    "for item in items:\n",
    "    name = item['name']\n",
    "    quantity = item['quantity']\n",
    "    price = item['price']\n",
    "    \n",
    "    item_total = quantity * price\n",
    "    total_amount += item_total\n",
    "    \n",
    "    print(\"{:<15} {:<15} {:<10.2f}\".format(name, quantity, item_total))\n",
    "\n",
    "print(\"-\" * 40)\n",
    "print(\"Total Amount to be paid: {:.2f}\".format(total_amount))\n",
    "print(\"-\" * 40)"
   ]
  },
  {
   "cell_type": "code",
   "execution_count": 7,
   "id": "e7a4e94c",
   "metadata": {},
   "outputs": [
    {
     "name": "stdout",
     "output_type": "stream",
     "text": [
      "The sum of 5 and 3 is: 8\n"
     ]
    }
   ],
   "source": [
    "# This is a single-line comment\n",
    "# The following program demonstrates different types of comments in Python\n",
    "\n",
    "\"\"\"\n",
    "This is a multi-line comment.\n",
    "Useful for long explanations or disabling blocks of code.\n",
    "\"\"\"\n",
    "\n",
    "# Below is a simple program to add two numbers\n",
    "\n",
    "# Assigning values to variables\n",
    "a = 5  # First number\n",
    "b = 3  # Second number\n",
    "\n",
    "# Adding the two numbers and storing the result in 'result'\n",
    "result = a + b  # Storing sum of a and b in result\n",
    "\n",
    "print(\"The sum of\", a, \"and\", b, \"is:\", result)  # Displaying the result"
   ]
  },
  {
   "cell_type": "code",
   "execution_count": null,
   "id": "96d79a97",
   "metadata": {},
   "outputs": [],
   "source": []
  }
 ],
 "metadata": {},
 "nbformat": 4,
 "nbformat_minor": 5
}

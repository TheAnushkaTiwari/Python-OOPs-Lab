{
 "cells": [
  {
   "cell_type": "code",
   "execution_count": 3,
   "id": "671da935",
   "metadata": {},
   "outputs": [
    {
     "name": "stdout",
     "output_type": "stream",
     "text": [
      "enter a number175\n",
      "175 is disarium number\n"
     ]
    }
   ],
   "source": [
    "num=int(input(\"enter a number\"))\n",
    "n=num\n",
    "c=0\n",
    "sum=0\n",
    "while(n!=0):\n",
    "    n=n//10\n",
    "    c=c+1\n",
    "n=num\n",
    "k=0\n",
    "for i in range(c,0,-1):\n",
    "    k=n%10\n",
    "    n=n//10\n",
    "    sum=k**i+sum\n",
    "if(sum==num):\n",
    "    print(f\"{num} is disarium number\")\n",
    "else:\n",
    "    print(f\"{num} is not disarium number\")"
   ]
  },
  {
   "cell_type": "code",
   "execution_count": 2,
   "id": "b1a559c2",
   "metadata": {},
   "outputs": [
    {
     "name": "stdout",
     "output_type": "stream",
     "text": [
      "enter a number50\n",
      "50 is harshad number \n"
     ]
    }
   ],
   "source": [
    "a=int(input(\"enter a number\"))\n",
    "n=a\n",
    "sum=0\n",
    "c=0\n",
    "while(n!=0):\n",
    "    n=n//10\n",
    "    c=c+1\n",
    "n=a\n",
    "for i in range(0,c):\n",
    "    k=n%10\n",
    "    n=n//10\n",
    "    sum=sum+k\n",
    "if(a%sum==0):\n",
    "    print(f\"{a} is harshad number \")\n",
    "else:    \n",
    "    print(f\"{a} is not harshad number\")"
   ]
  },
  {
   "cell_type": "code",
   "execution_count": 10,
   "id": "f264d485",
   "metadata": {},
   "outputs": [],
   "source": [
    "sum=0\n",
    "c=0\n",
    "for i in range(60,70):\n",
    "    num=i\n",
    "    n=num\n",
    "    while(n!=0):\n",
    "        n=n//10\n",
    "        c=c+1\n",
    "    n=num\n",
    "    for j in range(0,c):\n",
    "        k=n%10\n",
    "        n=n//10\n",
    "        sum=sum+k**c\n",
    "    if(sum==i):\n",
    "        print(sum)"
   ]
  },
  {
   "cell_type": "code",
   "execution_count": 13,
   "id": "7d6e0120",
   "metadata": {},
   "outputs": [
    {
     "name": "stdout",
     "output_type": "stream",
     "text": [
      "enter a number3\n",
      "enter its power3\n",
      "3 to the power 3 is 27\n"
     ]
    }
   ],
   "source": [
    "num=int(input(\"enter a number\"))\n",
    "n=int(input(\"enter its power\"))\n",
    "power=num**n\n",
    "print(f\"{num} to the power {n} is {power}\")"
   ]
  },
  {
   "cell_type": "code",
   "execution_count": null,
   "id": "9feaffa4",
   "metadata": {},
   "outputs": [],
   "source": []
  }
 ],
 "metadata": {
  "kernelspec": {
   "display_name": "Python 3 (ipykernel)",
   "language": "python",
   "name": "python3"
  },
  "language_info": {
   "codemirror_mode": {
    "name": "ipython",
    "version": 3
   },
   "file_extension": ".py",
   "mimetype": "text/x-python",
   "name": "python",
   "nbconvert_exporter": "python",
   "pygments_lexer": "ipython3",
   "version": "3.11.5"
  }
 },
 "nbformat": 4,
 "nbformat_minor": 5
}

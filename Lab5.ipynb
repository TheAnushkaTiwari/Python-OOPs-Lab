{
 "cells": [
  {
   "cell_type": "code",
   "execution_count": 5,
   "id": "0c3e4495",
   "metadata": {},
   "outputs": [
    {
     "name": "stdout",
     "output_type": "stream",
     "text": [
      "[3, 9, 6, 18, 21]\n"
     ]
    }
   ],
   "source": [
    "def triple(n):\n",
    "    return n*3\n",
    "num=[1,3,2,6,7]\n",
    "t=list(map(triple,num))\n",
    "print(t)"
   ]
  },
  {
   "cell_type": "code",
   "execution_count": 6,
   "id": "4e3849c6",
   "metadata": {},
   "outputs": [
    {
     "name": "stdout",
     "output_type": "stream",
     "text": [
      "[15, 9, 12, 15]\n"
     ]
    }
   ],
   "source": [
    "a=[1,2,3,4]\n",
    "b=[5,6,7,8]\n",
    "c=[9,1,2,3]\n",
    "sums=list(map(lambda x,y,z: x+y+z, a,b,c))\n",
    "print(sums)"
   ]
  },
  {
   "cell_type": "code",
   "execution_count": 12,
   "id": "9d63e582",
   "metadata": {},
   "outputs": [
    {
     "name": "stdout",
     "output_type": "stream",
     "text": [
      "[['a'], ['p'], ['p'], ['l'], ['e'], [' '], ['i'], ['s'], [' '], ['g'], ['o'], ['o'], ['d']]\n",
      "[['a'], ['n'], ['u'], ['s'], ['h'], ['k'], ['a']]\n"
     ]
    }
   ],
   "source": [
    "str1=\"apple is good\"\n",
    "str2=\"anushka\"\n",
    "listfy1=list(map(list,str1))\n",
    "listfy2=list(map(list,str2))\n",
    "print(listfy1)\n",
    "print(listfy2)"
   ]
  },
  {
   "cell_type": "code",
   "execution_count": 10,
   "id": "4bbd0408",
   "metadata": {},
   "outputs": [
    {
     "name": "stdout",
     "output_type": "stream",
     "text": [
      "[1, 6, 25, 27]\n"
     ]
    }
   ],
   "source": [
    "num=[2,6,5,3]\n",
    "powers=list(map(lambda i: num[i]**i, range(len(num))))\n",
    "print(powers)"
   ]
  },
  {
   "cell_type": "code",
   "execution_count": 15,
   "id": "371d5873",
   "metadata": {},
   "outputs": [
    {
     "name": "stdout",
     "output_type": "stream",
     "text": [
      "[1, 9, 36, 81, 16, 49]\n"
     ]
    }
   ],
   "source": [
    "num=[1,3,6,9,4,7]\n",
    "squares=list(map(lambda x: x*x ,num))\n",
    "print(squares)"
   ]
  },
  {
   "cell_type": "code",
   "execution_count": 13,
   "id": "d471aa4a",
   "metadata": {},
   "outputs": [
    {
     "name": "stdout",
     "output_type": "stream",
     "text": [
      "['O', 'M', 'A', 'E', 'R', 'P', 'C', 'B', 'J', 'T', 'O', 'N', 'D', 'G', 'I']\n",
      "\n",
      "['o', 'm', 'a', 'e', 'r', 'p', 'c', 'b', 'j', 't', 'o', 'n', 'd', 'g', 'i']\n"
     ]
    }
   ],
   "source": [
    "char=\"ObjectOrientedProgramming\"\n",
    "u=set(char)\n",
    "lowercase_char=list(map(lambda x: x.upper(),u))\n",
    "uppercase_char=list(map(lambda x: x.lower(),u))\n",
    "print(lowercase_char)\n",
    "print()\n",
    "print(uppercase_char)"
   ]
  },
  {
   "cell_type": "code",
   "execution_count": 31,
   "id": "0b055e90",
   "metadata": {},
   "outputs": [
    {
     "name": "stdout",
     "output_type": "stream",
     "text": [
      "[8, 10, 12, 20]\n",
      "[6, 6, 6, 12]\n"
     ]
    }
   ],
   "source": [
    "a=[7,8,9,16]\n",
    "b=[1,2,3,4]\n",
    "sums=list(map(lambda x,y: x+y ,a,b))\n",
    "diff=list(map(lambda x,y: x-y ,a,b))\n",
    "print(sums)\n",
    "print(diff)"
   ]
  },
  {
   "cell_type": "code",
   "execution_count": 34,
   "id": "5be4a3a1",
   "metadata": {},
   "outputs": [
    {
     "name": "stdout",
     "output_type": "stream",
     "text": [
      "['1', '2', '5', '6', '7', '8']\n",
      "['67', '45', '34', '9']\n"
     ]
    },
    {
     "data": {
      "text/plain": [
       "str"
      ]
     },
     "execution_count": 34,
     "metadata": {},
     "output_type": "execute_result"
    }
   ],
   "source": [
    "l=[1,2,5,6,7,8]\n",
    "t=(67,45,34,9)\n",
    "string1=list(map(str,l))\n",
    "string2=list(map(str,t))\n",
    "print(string1)\n",
    "print(string2)\n",
    "type(string1[0])"
   ]
  },
  {
   "cell_type": "code",
   "execution_count": 40,
   "id": "a4634a73",
   "metadata": {},
   "outputs": [
    {
     "name": "stdout",
     "output_type": "stream",
     "text": [
      "[23, 9, 58]\n"
     ]
    }
   ],
   "source": [
    "t=['23',5,9,'67',4,'58']\n",
    "s=[t[0],t[2],t[5]]\n",
    "result=list(map(lambda x: int(x), s))\n",
    "print(result)"
   ]
  },
  {
   "cell_type": "code",
   "execution_count": 10,
   "id": "b36a9df8",
   "metadata": {},
   "outputs": [
    {
     "name": "stdout",
     "output_type": "stream",
     "text": [
      "enter a number6\n",
      "[0, 1, 2, 3, 5, 8]\n",
      "[0, 1, 4, 9, 25, 64]\n"
     ]
    }
   ],
   "source": [
    "num=int(input(\"enter a number\"))\n",
    "def fibonacci(n):\n",
    "    l=[]\n",
    "    (n1,n2)=(0,1)\n",
    "    (k,s)=(0,0)\n",
    "    while k<n:\n",
    "        l.append(s)\n",
    "        s=n1+n2\n",
    "        n1=n2\n",
    "        n2=s\n",
    "        k=k+1\n",
    "    return l\n",
    "print(fibonacci(num))\n",
    "result=list(map(lambda x: x*x ,fibonacci(num)))\n",
    "print(result)"
   ]
  },
  {
   "cell_type": "code",
   "execution_count": 11,
   "id": "272b5cbf",
   "metadata": {},
   "outputs": [
    {
     "name": "stdout",
     "output_type": "stream",
     "text": [
      "Sum of elements of array is 38\n"
     ]
    }
   ],
   "source": [
    "array=[1,4,6,8,9,10]\n",
    "result=sum(map(int,array))\n",
    "print(f\"Sum of elements of array is {result}\")"
   ]
  },
  {
   "cell_type": "code",
   "execution_count": null,
   "id": "e1b7c267",
   "metadata": {},
   "outputs": [],
   "source": []
  }
 ],
 "metadata": {
  "kernelspec": {
   "display_name": "Python 3 (ipykernel)",
   "language": "python",
   "name": "python3"
  },
  "language_info": {
   "codemirror_mode": {
    "name": "ipython",
    "version": 3
   },
   "file_extension": ".py",
   "mimetype": "text/x-python",
   "name": "python",
   "nbconvert_exporter": "python",
   "pygments_lexer": "ipython3",
   "version": "3.11.5"
  }
 },
 "nbformat": 4,
 "nbformat_minor": 5
}

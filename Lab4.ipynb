{
 "cells": [
  {
   "cell_type": "code",
   "execution_count": 1,
   "id": "02bee45d",
   "metadata": {},
   "outputs": [
    {
     "name": "stdout",
     "output_type": "stream",
     "text": [
      "enter a number175\n",
      "175 is disarium number\n"
     ]
    }
   ],
   "source": [
    "num=int(input(\"enter a number\"))\n",
    "n=num\n",
    "c=0\n",
    "sum=0\n",
    "while(n!=0):\n",
    "    n=n//10\n",
    "    c=c+1\n",
    "n=num\n",
    "k=0\n",
    "for i in range(c,0,-1):\n",
    "    k=n%10\n",
    "    n=n//10\n",
    "    sum=k**i+sum\n",
    "if(sum==num):\n",
    "    print(f\"{num} is disarium number\")\n",
    "else:\n",
    "    print(f\"{num} is not disarium number\")"
   ]
  },
  {
   "cell_type": "code",
   "execution_count": 2,
   "id": "6a96b2e9",
   "metadata": {},
   "outputs": [
    {
     "name": "stdout",
     "output_type": "stream",
     "text": [
      "enter a number50\n",
      "50 is harshad number \n"
     ]
    }
   ],
   "source": [
    "a=int(input(\"enter a number\"))\n",
    "n=a\n",
    "sum=0\n",
    "c=0\n",
    "while(n!=0):\n",
    "    n=n//10\n",
    "    c=c+1\n",
    "n=a\n",
    "for i in range(0,c):\n",
    "    k=n%10\n",
    "    n=n//10\n",
    "    sum=sum+k\n",
    "if(a%sum==0):\n",
    "    print(f\"{a} is harshad number \")\n",
    "else:    \n",
    "    print(f\"{a} is not harshad number\")"
   ]
  },
  {
   "cell_type": "code",
   "execution_count": 9,
   "id": "5eafaaa9",
   "metadata": {},
   "outputs": [
    {
     "name": "stdout",
     "output_type": "stream",
     "text": [
      "1\n",
      "2\n",
      "3\n",
      "4\n",
      "5\n",
      "6\n",
      "7\n",
      "8\n",
      "9\n",
      "153\n",
      "370\n",
      "371\n",
      "407\n"
     ]
    }
   ],
   "source": [
    "for i in range(1,1000):\n",
    "    num=i\n",
    "    sum=0\n",
    "    n=num\n",
    "    c=0\n",
    "    while(n!=0):\n",
    "        c=c+1\n",
    "        n=n//10\n",
    "    n=i\n",
    "    while (n!=0):\n",
    "        k=n%10\n",
    "        n=n//10\n",
    "        sum=sum+k**c\n",
    "    if(sum==i):\n",
    "        print(i)"
   ]
  },
  {
   "cell_type": "code",
   "execution_count": 11,
   "id": "c19e56f3",
   "metadata": {},
   "outputs": [
    {
     "name": "stdout",
     "output_type": "stream",
     "text": [
      "enter a number4\n",
      "enter the power3\n",
      "4 to the power 3 is 64\n"
     ]
    }
   ],
   "source": [
    "x=int(input(\"enter a number\"))\n",
    "n=int(input(\"enter the power\"))\n",
    "print(f\"{x} to the power {n} is {x**n}\")"
   ]
  },
  {
   "cell_type": "code",
   "execution_count": 21,
   "id": "6677ff94",
   "metadata": {},
   "outputs": [
    {
     "name": "stdout",
     "output_type": "stream",
     "text": [
      "enter n value5\n",
      "enter r value2\n",
      "10.0\n"
     ]
    }
   ],
   "source": [
    "def factorial(n):\n",
    "    if (n==0):\n",
    "        return 1\n",
    "    else:\n",
    "        return n*factorial(n-1)\n",
    "n=int(input(\"enter n value\"))\n",
    "r=int(input(\"enter r value\"))\n",
    "ans=factorial(n)/(factorial(r)*factorial(n-r))\n",
    "print(ans)"
   ]
  },
  {
   "cell_type": "code",
   "execution_count": 8,
   "id": "a6e255cb",
   "metadata": {},
   "outputs": [
    {
     "name": "stdout",
     "output_type": "stream",
     "text": [
      "enter the number of fibonacci numbers to be printed 5\n",
      "0 1 1 2 3 5 "
     ]
    }
   ],
   "source": [
    "num=int(input(\"enter the number of fibonacci numbers to be printed \"))\n",
    "def fibonacci(n):\n",
    "    (n1,n2)=(0,1)\n",
    "    (sum,c)=(0,0)\n",
    "    while c<=n:\n",
    "        print(n1,end=' ')\n",
    "        sum=n1+n2\n",
    "        (n1,n2)=(n2,sum)\n",
    "        c=c+1\n",
    "fibonacci(num)"
   ]
  },
  {
   "cell_type": "code",
   "execution_count": 9,
   "id": "7d56469a",
   "metadata": {},
   "outputs": [
    {
     "name": "stdout",
     "output_type": "stream",
     "text": [
      "enter a number343\n",
      "10\n"
     ]
    }
   ],
   "source": [
    "n=int(input(\"enter a number\"))\n",
    "sum=0\n",
    "while n!=0:\n",
    "    d=n%10\n",
    "    n=n//10\n",
    "    sum=sum+d\n",
    "print (sum)"
   ]
  },
  {
   "cell_type": "code",
   "execution_count": 14,
   "id": "e1054292",
   "metadata": {},
   "outputs": [
    {
     "name": "stdout",
     "output_type": "stream",
     "text": [
      "enter a number456\n",
      "654\n"
     ]
    }
   ],
   "source": [
    "n=int(input(\"enter a number\"))\n",
    "rev_num=0\n",
    "while n!=0:\n",
    "    d=n%10\n",
    "    n=n//10\n",
    "    rev_num=d+rev_num*10\n",
    "print(rev_num)"
   ]
  },
  {
   "cell_type": "code",
   "execution_count": 24,
   "id": "24570186",
   "metadata": {},
   "outputs": [
    {
     "name": "stdout",
     "output_type": "stream",
     "text": [
      "enter a number28\n",
      "28 is a perfect number\n"
     ]
    }
   ],
   "source": [
    "n=int(input(\"enter a number\"))\n",
    "sum=0\n",
    "for i in range(1,n+1):\n",
    "    if n%i==0:\n",
    "        sum=sum+i\n",
    "if (sum-n==n):\n",
    "    print(f\"{n} is a perfect number\")\n",
    "else:\n",
    "    print(f\"{n} is not a perfect number\")"
   ]
  },
  {
   "cell_type": "code",
   "execution_count": 32,
   "id": "def5598e",
   "metadata": {},
   "outputs": [
    {
     "name": "stdout",
     "output_type": "stream",
     "text": [
      "enter a number343\n",
      "343\n",
      "343 is a pallindrome number\n"
     ]
    }
   ],
   "source": [
    "n=int(input(\"enter a number\"))\n",
    "rev_num=0\n",
    "num=n\n",
    "while num!=0:\n",
    "    d=num%10\n",
    "    num=num//10\n",
    "    rev_num=rev_num*10+d\n",
    "print(rev_num)\n",
    "if (rev_num==n):\n",
    "    print(f\"{n} is a pallindrome number\")\n",
    "else:\n",
    "    print(f\"{n} is not a pallindrome number\")"
   ]
  },
  {
   "cell_type": "code",
   "execution_count": 37,
   "id": "35cb2724",
   "metadata": {},
   "outputs": [
    {
     "name": "stdout",
     "output_type": "stream",
     "text": [
      "enter the number of lines5\n",
      "1 \n",
      "1 2 \n",
      "1 2 3 \n",
      "1 2 3 4 \n",
      "1 2 3 4 5 \n"
     ]
    }
   ],
   "source": [
    "n=int(input(\"enter the number of lines\"))\n",
    "for i in range(1,n+1):\n",
    "    for j in range(1,i+1):\n",
    "        print(j,end=' ')\n",
    "    print()"
   ]
  },
  {
   "cell_type": "code",
   "execution_count": 38,
   "id": "a37f082d",
   "metadata": {},
   "outputs": [
    {
     "name": "stdout",
     "output_type": "stream",
     "text": [
      "enter a number5\n",
      "1 \n",
      "2 2 \n",
      "3 3 3 \n",
      "4 4 4 4 \n",
      "5 5 5 5 5 \n"
     ]
    }
   ],
   "source": [
    "n=int(input(\"enter a number\"))\n",
    "for i in range(1,n+1):\n",
    "    for j in range(1,i+1):\n",
    "        print(i,end=' ')\n",
    "    print()"
   ]
  },
  {
   "cell_type": "code",
   "execution_count": 39,
   "id": "f3821a8b",
   "metadata": {},
   "outputs": [
    {
     "name": "stdout",
     "output_type": "stream",
     "text": [
      "enter number of rows5\n",
      "A \n",
      "B B \n",
      "C C C \n",
      "D D D D \n",
      "E E E E E \n"
     ]
    }
   ],
   "source": [
    "n=int(input(\"enter number of rows\"))\n",
    "for i in range(n):\n",
    "    for j in range(i+1):\n",
    "        print(chr(i+65),end=' ')\n",
    "    print()"
   ]
  },
  {
   "cell_type": "code",
   "execution_count": 41,
   "id": "a0ac2da6",
   "metadata": {},
   "outputs": [
    {
     "name": "stdout",
     "output_type": "stream",
     "text": [
      "enter number of rows5\n",
      "* * * * * \n",
      "* * * * \n",
      "* * * \n",
      "* * \n",
      "* \n"
     ]
    }
   ],
   "source": [
    "n=int(input(\"enter number of rows\"))\n",
    "for i in range(0,n):\n",
    "    for j in range(n,i,-1):\n",
    "        print('*',end=' ')\n",
    "    print()"
   ]
  },
  {
   "cell_type": "code",
   "execution_count": 49,
   "id": "e35375bc",
   "metadata": {},
   "outputs": [
    {
     "name": "stdout",
     "output_type": "stream",
     "text": [
      "enter number of rows5\n",
      "1 2 3 4 5 \n",
      "1 2 3 4 \n",
      "1 2 3 \n",
      "1 2 \n",
      "1 \n"
     ]
    }
   ],
   "source": [
    "n=int(input(\"enter number of rows\"))\n",
    "for i in range(0,n):\n",
    "    for j in range(1,n-i+1):\n",
    "        print(j,end=' ')\n",
    "    print()"
   ]
  },
  {
   "cell_type": "code",
   "execution_count": 56,
   "id": "1b3ef290",
   "metadata": {},
   "outputs": [
    {
     "name": "stdout",
     "output_type": "stream",
     "text": [
      "enter number of rows5\n",
      "          \n",
      "        * \n",
      "      * * * \n",
      "    * * * * * \n",
      "  * * * * * * * \n",
      "* * * * * * * * * \n"
     ]
    }
   ],
   "source": [
    "n=int(input(\"enter number of rows\"))\n",
    "for i in range(n+1):\n",
    "    for j in range(n-i):\n",
    "        print(\" \",end=' ')\n",
    "    for k in range(1,2*i):\n",
    "        print('*',end=' ')\n",
    "    print()"
   ]
  },
  {
   "cell_type": "code",
   "execution_count": 63,
   "id": "ff605e80",
   "metadata": {},
   "outputs": [
    {
     "name": "stdout",
     "output_type": "stream",
     "text": [
      "enter number of rows5\n",
      "        1 \n",
      "      2 3 2 \n",
      "    3 4 5 4 3 \n",
      "  4 5 6 7 6 5 4 \n",
      "5 6 7 8 9 8 7 6 5 \n"
     ]
    }
   ],
   "source": [
    "n=int(input(\"enter number of rows\"))\n",
    "for i in range(1,n+1):\n",
    "    for j in range(n-i):\n",
    "        print(' ',end=' ')\n",
    "    for k in range(i,2*i):\n",
    "        print(k,end=' ')\n",
    "    for j in range(2 * i - 2, i - 1, -1):\n",
    "        print(j, end=\" \")\n",
    "    print()"
   ]
  },
  {
   "cell_type": "code",
   "execution_count": 14,
   "id": "ebe408af",
   "metadata": {},
   "outputs": [
    {
     "name": "stdout",
     "output_type": "stream",
     "text": [
      "enter number of rows5\n",
      " ********* \n",
      "  ******* \n",
      "   ***** \n",
      "    *** \n",
      "     * \n"
     ]
    }
   ],
   "source": [
    "n=int(input(\"enter number of rows\"))\n",
    "for i in range(n):\n",
    "    print(\" \"*i,end=' ')\n",
    "    print(\"*\"*(2*(n-i)-1),end=' ')\n",
    "    print()"
   ]
  },
  {
   "cell_type": "code",
   "execution_count": 41,
   "id": "d8c65bf7",
   "metadata": {},
   "outputs": [
    {
     "name": "stdout",
     "output_type": "stream",
     "text": [
      "               1 \n",
      "             1  1 \n",
      "           1  2  1 \n",
      "         1  3  3  1 \n",
      "       1  4  6  4  1 \n",
      "     1  5  10  10  5  1 \n"
     ]
    }
   ],
   "source": [
    "n = 6\n",
    "\n",
    "triangle = [[1] * (i + 1) for i in range(n)]\n",
    "\n",
    "for i in range(2, n):\n",
    "    for j in range(1, i):\n",
    "        triangle[i][j] = triangle[i - 1][j - 1] + triangle[i - 1][j]\n",
    "\n",
    "for i in range(n):\n",
    "\n",
    "    print(\" \" * 2 *(n-i+1) , end=\"\")\n",
    "    \n",
    "    for j in range(i + 1):\n",
    "        print(f\" {triangle[i][j]}\", end=\" \")\n",
    "        \n",
    "    print()\n"
   ]
  },
  {
   "cell_type": "code",
   "execution_count": 60,
   "id": "3dfa5e52",
   "metadata": {},
   "outputs": [
    {
     "name": "stdout",
     "output_type": "stream",
     "text": [
      "enter number of rows4\n",
      "1 \n",
      "2 3 \n",
      "4 5 6 \n",
      "7 8 9 10 \n"
     ]
    }
   ],
   "source": [
    "n=int(input(\"enter number of rows\"))\n",
    "c=1\n",
    "for i in range(1,n+1):\n",
    "    for j in range(i):\n",
    "        print(c,end=' ')\n",
    "        c=c+1\n",
    "    print()"
   ]
  },
  {
   "cell_type": "code",
   "execution_count": 74,
   "id": "544695ff",
   "metadata": {},
   "outputs": [
    {
     "name": "stdout",
     "output_type": "stream",
     "text": [
      "enter number of rows4\n",
      "A \n",
      "B A B \n",
      "A B A B A \n",
      "B A B A B A B \n"
     ]
    }
   ],
   "source": [
    "n=int(input(\"enter number of rows\"))\n",
    "c='B'\n",
    "for i in range(1,n+1):\n",
    "    for j in range(1,2*i):\n",
    "        if(c=='A'):\n",
    "            c='B'\n",
    "        else:\n",
    "            c='A'\n",
    "        print(c,end=' ')\n",
    "    print()"
   ]
  },
  {
   "cell_type": "code",
   "execution_count": 77,
   "id": "08e46266",
   "metadata": {},
   "outputs": [
    {
     "name": "stdout",
     "output_type": "stream",
     "text": [
      "enter number of rows4\n",
      "1 \n",
      "0 1 0 \n",
      "1 0 1 0 1 \n",
      "0 1 0 1 0 1 0 \n"
     ]
    }
   ],
   "source": [
    "n=int(input(\"enter number of rows\"))\n",
    "c=0\n",
    "for i in range(1,n+1):\n",
    "    for j in range(1,2*i):\n",
    "        if (c==0):\n",
    "            c=1\n",
    "        else:\n",
    "            c=0\n",
    "        print(c,end=' ')\n",
    "    print()"
   ]
  },
  {
   "cell_type": "code",
   "execution_count": null,
   "id": "1915863f",
   "metadata": {},
   "outputs": [],
   "source": []
  }
 ],
 "metadata": {
  "kernelspec": {
   "display_name": "Python 3 (ipykernel)",
   "language": "python",
   "name": "python3"
  },
  "language_info": {
   "codemirror_mode": {
    "name": "ipython",
    "version": 3
   },
   "file_extension": ".py",
   "mimetype": "text/x-python",
   "name": "python",
   "nbconvert_exporter": "python",
   "pygments_lexer": "ipython3",
   "version": "3.11.5"
  }
 },
 "nbformat": 4,
 "nbformat_minor": 5
}
